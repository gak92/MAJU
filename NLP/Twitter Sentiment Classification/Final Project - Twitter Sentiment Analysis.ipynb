{
 "cells": [
  {
   "cell_type": "markdown",
   "metadata": {},
   "source": [
    "# Twitter Sentiment Analysis"
   ]
  },
  {
   "cell_type": "markdown",
   "metadata": {},
   "source": [
    "#### In this project we analyze text tweets for any company, and sorting them into Positive, Negative or Neutral. It will help company to understand how people(customers) think about how good company is?\n",
    "### STEPS:\n",
    "#### 1- Scrape the tweets. (for e.g. Careem Pak)\n",
    "#### 2- Data Preparing (Preprocessing and Cleaning)\n",
    "#### 3- Train the model (Use ML Algorithm)\n",
    "#### 4- Test and Predict\n",
    "#####  ----------------------------------------------------- GROUP:  -----------  GHAZANFAR ALI (FA19-MSCS-0016)   &     MUHAMMAD ASHAR (FA19-MSCS-0007)"
   ]
  },
  {
   "cell_type": "markdown",
   "metadata": {},
   "source": [
    "## NOTE:\n",
    "Initially we try to get twitter data but api request rejected. As we discussed earlier.\n",
    "Then we plan to scrap whatmobile review. We did it but problem with that review is more like everybody trying to sell \n",
    "their own item. It's not actually a review. So we drop to use this data.\n",
    "Finally we search twitter data online that we found. \n",
    "So, we use this data which is available in csv format."
   ]
  },
  {
   "cell_type": "markdown",
   "metadata": {},
   "source": [
    "### IMPORTING NECESSARY MODULES"
   ]
  },
  {
   "cell_type": "code",
   "execution_count": 1,
   "metadata": {},
   "outputs": [],
   "source": [
    "import numpy as np\n",
    "import pandas as pd\n",
    "import string\n",
    "\n",
    "from sklearn import model_selection, preprocessing\n",
    "\n",
    "import nltk\n",
    "from nltk.tokenize import word_tokenize\n",
    "from nltk.stem import WordNetLemmatizer\n",
    "from nltk.corpus import wordnet         # To Lemmatize with POS Tag\n",
    "from nltk import pos_tag\n",
    "from nltk.corpus import stopwords\n"
   ]
  },
  {
   "cell_type": "markdown",
   "metadata": {},
   "source": [
    "#### Following are necessary things to download once to work with nltk library if only not downloaded\n",
    "nltk.download('averaged_perceptron_tagger')\n",
    "nltk.download('stopwords')\n",
    "nltk.download('wordnet')"
   ]
  },
  {
   "cell_type": "markdown",
   "metadata": {},
   "source": [
    "## Read data from csv file and store into data frame"
   ]
  },
  {
   "cell_type": "code",
   "execution_count": 2,
   "metadata": {},
   "outputs": [
    {
     "name": "stdout",
     "output_type": "stream",
     "text": [
      "<class 'pandas.core.frame.DataFrame'>\n",
      "RangeIndex: 4999 entries, 0 to 4998\n",
      "Data columns (total 3 columns):\n",
      "tweet_id     4999 non-null float64\n",
      "sentiment    4999 non-null object\n",
      "text         4999 non-null object\n",
      "dtypes: float64(1), object(2)\n",
      "memory usage: 117.2+ KB\n",
      "None\n",
      "       tweet_id sentiment                                               text\n",
      "0  5.679000e+17  negative  @SouthwestAir I am scheduled for the morning, ...\n",
      "1  5.699890e+17  positive  @SouthwestAir seeing your workers time in and ...\n",
      "2  5.680890e+17  positive  @united Flew ORD to Miami and back and  had gr...\n",
      "3  5.689280e+17  negative     @SouthwestAir @dultch97 that's horse radish 😤🐴\n",
      "4  5.685940e+17  negative  @united so our flight into ORD was delayed bec...\n"
     ]
    }
   ],
   "source": [
    "df = pd.read_csv('data.csv',delimiter=',')\n",
    "print(df.info())\n",
    "print(df.head())"
   ]
  },
  {
   "cell_type": "markdown",
   "metadata": {},
   "source": [
    "## Getting tweet(text) and sentiment column"
   ]
  },
  {
   "cell_type": "code",
   "execution_count": 3,
   "metadata": {},
   "outputs": [
    {
     "name": "stdout",
     "output_type": "stream",
     "text": [
      "tweet: @united so our flight into ORD was delayed because of Air Force One, but the last flight to SBN is at 8:20, 5 mins from now we just landed. =======> sentiment: negative\n",
      "<class 'pandas.core.series.Series'>\n",
      "<class 'pandas.core.series.Series'>\n"
     ]
    }
   ],
   "source": [
    "text = df['text']\n",
    "sentiment = df['sentiment']\n",
    "print(f\"tweet: {text[4]} =======> sentiment: {sentiment[4]}\")\n",
    "print(type(sentiment))\n",
    "print(type(text))"
   ]
  },
  {
   "cell_type": "markdown",
   "metadata": {},
   "source": [
    "## Splitting the data into train and test"
   ]
  },
  {
   "cell_type": "code",
   "execution_count": 4,
   "metadata": {},
   "outputs": [],
   "source": [
    "X_train, X_test, y_train, y_test = model_selection.train_test_split(text, sentiment, test_size=0.2)"
   ]
  },
  {
   "cell_type": "code",
   "execution_count": 5,
   "metadata": {},
   "outputs": [
    {
     "name": "stdout",
     "output_type": "stream",
     "text": [
      "X_train:3999 y_train:3999 X_test:1000 y_test:1000\n"
     ]
    }
   ],
   "source": [
    "print(f\"X_train:{len(X_train)} y_train:{len(y_train)} X_test:{len(X_test)} y_test:{len(y_test)}\")"
   ]
  },
  {
   "cell_type": "markdown",
   "metadata": {},
   "source": [
    "## Create separate csv file for each split(just to save it) and read it back"
   ]
  },
  {
   "cell_type": "code",
   "execution_count": 6,
   "metadata": {},
   "outputs": [],
   "source": [
    "X_train.to_csv('xtrain.csv', header=['text'], index=False)\n",
    "X_test.to_csv('xtest.csv', header=['text'], index=False)\n",
    "y_train.to_csv('ytrain.csv', header=['sentiment'], index=False)\n",
    "y_test.to_csv('ytest.csv', header=['sentiment'], index=False)"
   ]
  },
  {
   "cell_type": "code",
   "execution_count": 7,
   "metadata": {},
   "outputs": [],
   "source": [
    "X_train = pd.read_csv('xtrain.csv')['text']\n",
    "X_test = pd.read_csv('xtest.csv')['text']\n",
    "y_train = pd.read_csv('ytrain.csv')['sentiment']\n",
    "y_test = pd.read_csv('ytest.csv')['sentiment']"
   ]
  },
  {
   "cell_type": "code",
   "execution_count": 8,
   "metadata": {},
   "outputs": [
    {
     "name": "stdout",
     "output_type": "stream",
     "text": [
      "X_train:3999 y_train:3999 X_test:1000 y_test:1000\n"
     ]
    }
   ],
   "source": [
    "print(f\"X_train:{len(X_train)} y_train:{len(y_train)} X_test:{len(X_test)} y_test:{len(y_test)}\")"
   ]
  },
  {
   "cell_type": "markdown",
   "metadata": {},
   "source": [
    "## Tokenizing word and create list of tuple(tweet,sentiment)"
   ]
  },
  {
   "cell_type": "code",
   "execution_count": 9,
   "metadata": {},
   "outputs": [
    {
     "name": "stdout",
     "output_type": "stream",
     "text": [
      "length of reviews: 3999 length of test_reviews: 1000\n",
      "(['@', 'united', 'i', 'would', 'like', 'to', 'know', 'if', 'its', 'possiable', 'to', 'checkin', 'online', 'or', 'must', 'it', 'be', 'done', 'at', 'schiphol', '?'], 'neutral')\n",
      "(['@', 'americanair', 'their', 'flights', 'into', 'buffalo', 'as', 'well', '--', 'you', 'were', 'the', 'only', 'flight', 'cancelled', 'flightled', '!', '!', '!'], 'negative')\n"
     ]
    }
   ],
   "source": [
    "def tokenizing(tweets,sentiments):\n",
    "    doc_list = []\n",
    "    for i in range(len(tweets)):\n",
    "        doc_list.append((word_tokenize(tweets[i].lower()), sentiments[i]))\n",
    "    return doc_list\n",
    "    \n",
    "    \n",
    "reviews = tokenizing(X_train, y_train)\n",
    "test_reviews = tokenizing(X_test, y_test)\n",
    "print(f\"length of reviews: {len(reviews)} length of test_reviews: {len(test_reviews)}\")\n",
    "\n",
    "print(reviews[9])\n",
    "print(test_reviews[9])"
   ]
  },
  {
   "cell_type": "markdown",
   "metadata": {},
   "source": [
    "## Shuffle the reviews"
   ]
  },
  {
   "cell_type": "code",
   "execution_count": 10,
   "metadata": {},
   "outputs": [],
   "source": [
    "import random\n",
    "random.shuffle(reviews)"
   ]
  },
  {
   "cell_type": "markdown",
   "metadata": {},
   "source": [
    "## Lemmatization\n",
    "Lemmatization is the process of converting a word to its base form. The difference between stemming and lemmatization is, lemmatization considers the context and converts the word to its meaningful base form, whereas stemming just removes the last few characters, often leading to incorrect meanings and spelling errors.\n",
    "\n",
    "For example, lemmatization would correctly identify the base form of ‘caring’ to ‘care’, whereas, stemming would cutoff the ‘ing’ part and convert it to car.\n",
    "\n",
    "‘Caring’ -> Lemmatization -> ‘Care’\n",
    "‘Caring’ -> Stemming -> ‘Car’\n",
    "\n",
    "Wordnet is an large, freely and publicly available lexical database for the English language aiming to establish structured semantic relationships between words. It offers lemmatization capabilities as well and is one of the earliest and most commonly used lemmatizers."
   ]
  },
  {
   "cell_type": "code",
   "execution_count": 11,
   "metadata": {},
   "outputs": [],
   "source": [
    "def get_stop_words(language):\n",
    "    stop_words = set(stopwords.words(language)) # create set of english stop words\n",
    "    punctuations = list(string.punctuation) # get punctuations (using string import earlier)\n",
    "    stop_words.update(punctuations) # update stop words with punctuations\n",
    "    return stop_words"
   ]
  },
  {
   "cell_type": "code",
   "execution_count": 12,
   "metadata": {},
   "outputs": [
    {
     "name": "stdout",
     "output_type": "stream",
     "text": [
      "<class 'set'>\n",
      "{\"you've\", 'been', 'the', 'o', 'its', \"mustn't\", \"haven't\", \"wasn't\", 'there', 'these', 'where', 'were', 'will', 'it', 'am', 'about', 'very', 'both', '\"', 'me', ':', '{', 'just', 'himself', 'has', '~', 'from', 'weren', 'hers', 'over', \"couldn't\", 'some', 'here', '<', '>', 'this', 'in', 'shan', 're', 'itself', \"don't\", ',', 'her', 'below', 'for', 'did', 'aren', 'mustn', 'during', 'again', 'by', 'mightn', '\\\\', 'ours', 'as', 'why', 'haven', 'a', 'because', 'once', 'they', 'that', 'then', 'won', 'any', '#', 'above', 'how', 'before', 'his', 'who', 'between', 'their', 'your', 'wasn', '/', 'herself', '|', '+', '^', '!', '_', \"needn't\", 'against', 'themselves', \"you're\", ')', \"doesn't\", 'but', 'll', '*', \"won't\", 'ma', 'each', 'more', \"hasn't\", 'isn', 'don', 'our', 'my', 'no', 'through', 'yours', 'which', 'was', 'can', \"wouldn't\", 'an', 'hadn', 'she', \"shan't\", 'while', 'doing', 'yourself', \"mightn't\", '?', \"didn't\", 'all', \"that'll\", 'out', 'same', 'm', 'theirs', \"you'll\", 'him', 'at', 'further', '[', 'doesn', 'of', 'should', '-', 'whom', 'until', 'what', 's', 'than', \"it's\", 'down', 'few', '$', 'such', 'on', 'needn', 'wouldn', '.', 'ain', \"shouldn't\", 'to', ';', 'off', 'those', 'up', 'do', 'other', 't', 'are', 'own', 've', 'does', '`', 'yourselves', 'have', '=', 'ourselves', \"aren't\", \"hadn't\", 'you', 'having', 'with', 'if', \"weren't\", \"should've\", 'most', 'myself', 'when', 'd', '(', '}', 'so', 'y', 'be', 'hasn', 'into', 'is', \"'\", 'had', 'after', 'didn', '@', ']', 'not', 'them', 'couldn', '%', 'nor', 'and', 'i', 'shouldn', \"she's\", 'under', 'or', \"you'd\", 'being', 'he', \"isn't\", 'only', '&', 'we', 'too', 'now'}\n"
     ]
    }
   ],
   "source": [
    "stops = get_stop_words('english')\n",
    "print(type(stops))\n",
    "print(stops)"
   ]
  },
  {
   "cell_type": "markdown",
   "metadata": {},
   "source": [
    "### Getting part of speech tags against each word"
   ]
  },
  {
   "cell_type": "code",
   "execution_count": 13,
   "metadata": {},
   "outputs": [],
   "source": [
    "# Get part of speech tags\n",
    "def get_pos_tag(tag):\n",
    "    if tag.startswith('J'):\n",
    "        return wordnet.ADJ\n",
    "    elif tag.startswith('V'):\n",
    "        return wordnet.VERB\n",
    "    elif tag.startswith('N'):\n",
    "        return wordnet.NOUN\n",
    "    elif tag.startswith('R'):\n",
    "        return wordnet.ADV\n",
    "    else:\n",
    "        return wordnet.NOUN"
   ]
  },
  {
   "cell_type": "code",
   "execution_count": 14,
   "metadata": {},
   "outputs": [
    {
     "name": "stdout",
     "output_type": "stream",
     "text": [
      "[('study', 'NN')]\n"
     ]
    },
    {
     "data": {
      "text/plain": [
       "'n'"
      ]
     },
     "execution_count": 14,
     "metadata": {},
     "output_type": "execute_result"
    }
   ],
   "source": [
    "# Example\n",
    "w = \"study\"\n",
    "pos = pos_tag([w])  # Take list as an argument even a single word\n",
    "print(pos)\n",
    "get_pos_tag(pos[0][1])"
   ]
  },
  {
   "cell_type": "markdown",
   "metadata": {},
   "source": [
    "### Cleaning review function"
   ]
  },
  {
   "cell_type": "code",
   "execution_count": 15,
   "metadata": {},
   "outputs": [],
   "source": [
    "# In order to lemmatize, you need to create an instance of the WordNetLemmatizer() and call the lemmatize() \n",
    "# function on a single word.\n",
    "# Init the Wordnet Lemmatizer\n",
    "lemmatizer = WordNetLemmatizer()\n",
    "\n",
    "def cleaning_reviews(sentence):\n",
    "    output = []\n",
    "    for word in sentence:\n",
    "        if word.lower() not in stops:\n",
    "            pos = pos_tag([word])\n",
    "            clean_word = lemmatizer.lemmatize(word, get_pos_tag(pos[0][1]))\n",
    "            output.append(clean_word.lower())\n",
    "    return output"
   ]
  },
  {
   "cell_type": "code",
   "execution_count": 16,
   "metadata": {},
   "outputs": [
    {
     "name": "stdout",
     "output_type": "stream",
     "text": [
      "['americanair', \"'m\", 'try', 'choose', 'seat', 'every', 'time', 'go', 'next', 'flight', 'get', 'system', 'error']\n"
     ]
    }
   ],
   "source": [
    "# Example to clean review\n",
    "sentence = ['@', 'americanair', 'i', \"'m\", 'trying', 'to', 'choose', 'my', 'seats', 'but', 'every', 'time', 'i', 'go', 'to', 'the', 'next', 'flight', 'i', 'get', 'system', 'error']\n",
    "clean = cleaning_reviews(sentence)\n",
    "print(clean)"
   ]
  },
  {
   "cell_type": "markdown",
   "metadata": {},
   "source": [
    "### Clean reviews and test_reviews"
   ]
  },
  {
   "cell_type": "code",
   "execution_count": 17,
   "metadata": {},
   "outputs": [],
   "source": [
    "reviews = [(cleaning_reviews(review), sentiment) for review, sentiment in reviews]\n",
    "test_reviews = [(cleaning_reviews(review), sentiment) for review, sentiment in test_reviews]"
   ]
  },
  {
   "cell_type": "code",
   "execution_count": 18,
   "metadata": {},
   "outputs": [
    {
     "name": "stdout",
     "output_type": "stream",
     "text": [
      "(['jetblue', 'make', 'happy', 'hope', \"n't\", 'empty', 'promise'], 'positive')\n",
      "(['united', '1/2', 'thanks', 'answer', 'question', 'want', 'make', 'reservation', 'phone', 'perth', 'hold', '24hrs', 'family'], 'negative')\n"
     ]
    }
   ],
   "source": [
    "print(reviews[19])\n",
    "print(test_reviews[4])"
   ]
  },
  {
   "cell_type": "code",
   "execution_count": 19,
   "metadata": {},
   "outputs": [
    {
     "name": "stdout",
     "output_type": "stream",
     "text": [
      "3999\n",
      "1000\n"
     ]
    }
   ],
   "source": [
    "# Just to verify number of tweets in training and testing\n",
    "print(len(reviews))\n",
    "print(len(test_reviews))"
   ]
  },
  {
   "cell_type": "markdown",
   "metadata": {},
   "source": [
    "### Getting word density and create features of most common words"
   ]
  },
  {
   "cell_type": "code",
   "execution_count": 20,
   "metadata": {},
   "outputs": [],
   "source": [
    "def get_features(reviews):\n",
    "    all_words = []\n",
    "    for review in reviews:\n",
    "        all_words += review[0]\n",
    "    common_words = nltk.FreqDist(all_words).most_common(2500) # get frequency of all words then top 2500\n",
    "    features = [i[0] for i in common_words]\n",
    "    return features"
   ]
  },
  {
   "cell_type": "code",
   "execution_count": 21,
   "metadata": {},
   "outputs": [
    {
     "name": "stdout",
     "output_type": "stream",
     "text": [
      "['flight', 'united', 'usairways', 'americanair', 'jetblue', 'southwestair', 'get', \"n't\", \"'s\", 'http', 'hour', 'thanks', 'service', 'cancel', 'time', '...', 'u', 'help', 'customer', 'call', 'hold', 'wait', 'go', 'plane', 'bag', '2', 'amp', 'fly', 'would', 'thank', 'need', 'make', 'still', 'try', \"'m\", 'one', 'back', 'say', 'day', 'gate', 'delayed', 'airline', 'take', 'bad', 'please', 'ca', 'like', 'virginamerica', 'late', 'book', 'guy', \"'ve\", 'delay', 'phone', 'agent', 'seat', 'change', 'today', '``', 'flightled', \"''\", 'ticket', 'know', 'work', 'well', 'check', 'never', 'could', 'airport', 'minute', 'miss', 'great', \"'re\", 'give', 'see', '3', 'use', 'hr', 'home', 'weather', 'problem', 'travel', 'tomorrow', 'really', 'min', 'love', 'dm', 'another', 'want', 'even', 'look', 'luggage', 'someone', 'good', 'people', 'lose', 'last', 'issue', 'way', 'much', \"'ll\", 'let', 'sit', 'new', 'right', '4', 'come', 'first', 'email', 'ever', 'told', 'staff', 'passenger', 'reservation', 'trip', 'next', 'due', 'crew', 'line', '”', 'yes', 'number', 'keep', 'baggage', 'jfk', 'response', 'sent', 'leave', 'tell', '“', 'online', 'ask', 'find', 'best', 'long', 'aa', 'appreciate', 'experience', '1', 'answer', 'boarding', 'mile', 'fleet', 'fleek', 'since', 'tonight', '5', 'think', 'left', 'week', 'board', 'air', 'update', 'voucher', 'night', 'pay', 'website', 'connection', 'two', 'sure', 'stuck', 'year', 'land', 'morning', 'flightr', 'credit', 'attendant', 'refund', 'rep', 'talk', 'show', 'send', 'follow', 'hope', 'receive', 'yet', 'anything', 'put', 'system', 'charge', 'rebooked', 'nice', 'already', 'anyone', 'hotel', 'point', 'person', 'dfw', 'lax', 'finally', 'southwest', 'pilot', 'arrive', 'add', 'name', 'every', 'sorry', 'frustrate', 'claim', 'wo', 'nothing', 'do', 'offer', \"'d\", 'care', 'full', 'rude', 'employee', '’', '20', 'tweet', 'free', 'thing', 'info', 'fail', 'understand', 'open', 'contact', 'flt', 'something', 'rebook', 'stop', 'seem', 'delta', 'suck', 'ok', 'suppose', 'also', 'happen', 'ago', 'friend', '30', 'business', '6', 'connect', 'airway', 'fee', 'money', 'site', 'able', 'thx', 'helpful', 'least', 'message', 'awesome', 'upgrade', 'rt', 'start', 'pas', 'app', 'lot', 'speak', 'departure', 'option', 'san', 'terrible', 'allow', 'everyone', 'ord', 'via', 'kid', 'plan', 'checked', 'gt', 'earlier', 'though', 'without', 'wifi', 'always', 'yesterday', 'sfo', 'family', 'plus', 'ewr', 'big', 'end', 'paid', 'class', 'tarmac', 'cause', 'wife', 'member', 'move', 'team', 'w/', 'mean', 'seriously', 'fix', 'vega', 'far', 'account', 'many', '7', 'hi', 'disappointed', 'actually', 'desk', 'ridiculous', 'destinationdragons', 'poor', 'early', 'schedule', 'cost', 'ground', '10', '50', 'old', 'found', 'direct', 'almost', 'strand', 'chicago', 'hear', 'snow', '1st', 'handle', 'instead', 'happy', 'oh', 'purchase', 'extra', 'reschedule', 'little', 'figure', 'dca', 'chance', 'phx', 'hey', 'expect', 'question', 'american', 'horrible', 'drop', 'bc', '--', 'return', 'status', 'food', 'row', 'soon', 'together', 'possible', 'treat', 'bos', 'turn', 'hung', 'respond', 'maybe', 'tv', 'ur', 'phl', 'error', 'past', 'disconnect', '8', 'price', 'resolve', 'feel', 'three', 'request', 'available', 'forward', 'complaint', 'place', 'else', 'policy', 'card', 'hang', 'thought', 'company', 'high', 'unacceptable', 'deal', 'real', 'around', 'runway', 'fare', 'easy', 'wrong', 'iad', 'reply', 'dallas', '25', '40', 'computer', 'idea', 'transfer', 'process', 'boston', 'job', 'dc', 'switch', 'date', 'la', 'clt', 'lol', 'confirmation', 'flyer', 'nyc', 'terminal', 'month', 'international', 'charlotte', 'fuck', 'different', 'busy', 'away', 'bring', 'deliver', 'guess', 'twitter', 'provide', '45', 'address', 'ua', 'imaginedragons', 'watch', 'fll', 'destination', 'lie', 'vacation', 'quick', 'joke', 'human', 'entire', 'priority', 'okay', 'depart', 'part', 'child', 'waste', 'twice', 'second', 'counter', 'storm', 'leg', 'w', 'load', 'sat', 'rock', '2nd', 'explain', 'reason', '24', 'miami', 'fun', 'lt', 'mechanical', 'reach', 'hop', 'run', 'may', 'less', 'group', 'enough', 'counting', 'cust', 'hard', 'link', 'loyal', 'assistance', 'wish', 'believe', 'live', 'traveler', 'denver', 'half', 'information', 'drive', 'sleep', 'share', 'swa', 'awful', '11', 'houston', 'whole', '12', 'future', '1/2', 'glad', 'might', 'amaze', \"y'all\", 'world', 'car', 'learn', 'relation', 'rather', 'city', 'life', 'spent', 'jet', 'despite', 'promise', 'head', 'drink', 'broken', 'na', 'cant', 'force', 'case', 'im', 'everything', 'close', 'baby', '9', 'yr', 'file', 'correct', 'apology', 'b', 'maintenance', 'cross', 'carry', 'hate', 'stay', 'enjoy', 'area', 'unfortunately', 'id', 'lga', 'plz', 'cool', 'consider', 'order', 'record', 'middle', 'form', '15', 'step', 'attitude', 'apparently', 'sign', 'usair', 'heard', 'newark', 'situation', 'club', 'unable', 'standby', 'wtf', 'train', 'flew', 'sunday', 'platinum', 'virgin', 'mom', 'excite', 'reflight', '100', 'item', 'control', 'worry', 'ruin', 'trouble', 'luck', 'save', 'hopefully', 'tuesday', 'rate', 'sell', 'longer', 'attempt', '200', 'access', 'space', 'overnight', 'word', 'pls', 'meal', 'refuse', 'tsa', 'country', 'luv', 'philly', 'either', 'room', '75', 'totally', 'sort', 'listen', 'detail', 'mess', 'husband', 'iah', 'orlando', 'blue', 'hello', 'deny', 'bank', 'award', 'screw', 'philadelphia', 'empty', '1.5', 'notice', 'super', 'wow', 'diego', 'safety', 'r', 'den', 'atl', 'definitely', 'mco', 'neveragain', 'flightlations', 'clear', 'pick', 'probably', 'gon', 'nashville', 'completely', 'bna', 'mileage', 'checkin', 'matter', 'single', 'receipt', 'list', 'freeze', 'buy', 'video', 'tag', 'concern', 'arrival', 'office', 'ready', 'winter', 'asap', 'state', 'door', 'accommodate', 'route', 'aircraft', 'begin', 'deplane', 'submit', 'tho', 'expire', 'front', '3rd', 'frequent', 'non', 'compensation', 'within', 'others', 'flown', 'win', 'thru', '60', 'merge', 'continue', 'walk', 'stuff', '2015', 'surprise', 'ceo', 'complain', 'kept', 'pretty', 'must', 'top', 'catch', 'flightlation', 'earn', 'apply', 'companion', 'several', 'yeah', 'mobile', 'feb', 'mail', 'beyond', 'confirm', 'bought', 'multiple', 'support', 'set', 'read', 'volume', 'atlanta', 'offering', 'friendly', 'overhead', '800', 'gold', 'unbelievable', 'finger', 'auto', 'merger', 'incompetent', 'page', 'lack', 'elite', 'choice', 'haha', 'sick', 'check-in', 'afternoon', 'red', 'damage', 'blame', 'ride', 'dividend', 'welcome', 'cabin', 'extremely', 'kind', 'friday', '0', 'raise', 'anymore', 'dragon', 'along', 'photo', 'serve', 'fl', 'ny', '90', 'four', 'equipment', 'story', 'saturday', 'phlairport', 'quickly', 'son', 'monday', 'require', 'bwi', 'pass', 'yall', 'original', 'worker', 'layover', 'funny', 'clearly', 'fault', 'happens', 'report', 'note', 'code', 'zero', '1k', 'hell', 'window', 'disappoint', 'legroom', 'americanairlines', 'medium', 'passbook', 'communication', 'folk', 'notification', 'brother', 'cut', 'pic', 'crazy', 'effort', 'sound', 'hit', 'man', 'fan', 'conf', 'wonderful', 'useless', 'hearing', 'mention', 'safe', 'view', 'post', 'traffic', 'upset', 'peanut', 'weekend', 'pm', 'absolute', 'unitedairlines', 'discount', 'fall', 'ppl', 'absolutely', 'program', 'ta', 'imagine', 'redeem', 'fill', 'choose', 'wall', 'touch', 'web', 'gotten', 'kill', 'inconvenience', 'tix', 'nearly', 'anywhere', 'cover', 'special', 'notify', 'dont', 'slc', 'shit', 'visit', 'pull', 'iphone', 'fair', 'news', 'nonstop', 'hand', 'fast', 'solution', 'woman', 'favorite', 'announce', 'expensive', 'assist', 'unhelpful', 'important', 'unhappy', 'wonder', 'lady', 'columbus', 'huge', 'kudos', 'internet', 'stick', 'automate', 'sad', 'birthday', 'pair', 'uk', 'worth', 'mine', 'include', 'c', 'dollar', 'trust', 'n', 'client', 'ugh', 'payment', 'degree', 'coupon', 'course', 'enter', 'log', 'serious', 'outstanding', 'fantastic', 'rdu', 'condition', 'reimbursement', 'avail', 'slow', 'fine', 'select', '..', 'dept', 'literally', 'difference', 'easily', 'commercial', 'suggestion', 'alternate', 'although', 'february', 'explanation', 'perfect', 'carrier', 'feature', 'track', 'remember', 'fact', 'professional', 'onboard', 'logan', 'smh', 'mint', 'teach', 'water', 'entertainment', 'flightation', 'solve', 'simply', 'funeral', 'tx', 'break', 'excuse', 'push', 'prefer', 'sw', 'coffee', 'none', 'low', 'tire', 'cab', 'warm', 'sale', 'wont', 'currently', 'center', 'svc', '2hrs', 'til', '300', 'mistake', 'heart', 'clothes', 'seattle', 'disappointment', 'austin', 'complete', 'nope', 'foot', 'b/c', 'avoid', 'obviously', 'acceptable', 'fort', 'action', 'social', 'ice', 'lounge', 'yvr', 'sense', 'economy', 'fight', 'usairwaysfail', 'model', 'eat', 'face', 'interest', 'epicfail', '32', 'wedding', 'profit', 'knew', 'loses', 'additional', 'america', 'emergency', 'jblu', 'sea', 'safely', 'infant', 'forever', 'rule', 'shortly', 'incompetence', 'disgust', 'stand', '728', 'decide', 'age', 'supervisor', 'held', 'customerservice', 'sna', 'cmh', 'outsource', 'bus', 'clue', 'moment', 'major', 'leaf', 'party', 'msg', 'bin', 'pathetic', 'waive', 'result', 'impossible', 'patience', 'dead', 'confuse', 'fund', 'silver', 'sju', 'anyway', 'btw', 'hire', 'callback', 'present', 'department', 'fyi', 'captain', 'airplane', 'couple', 'text', 'military', 'speed', 'statement', 'song', '2+', '30min', 'flightling', 'crap', 'ball', 'catering', 'guitar', 'mad', 'reserve', 'regard', 'automatically', '23', 'p', 'feedback', 'patient', 'daughter', 'reminder', 'click', 'unfriendlyskies', 'concerned', 'wine', 'likely', 'queue', 'interview', 'die', '3.5', 'south', 'mia', '3-4', 'spring', 'yep', 'domestic', 'spoke', 'cun', 'dfwairport', 'bother', 'affected', 'mind', 'snack', 'perhaps', 'august', 'five', 'delete', 'impressed', 'cold', '400', 'create', '1hr', 'prompt', 'main', '16', 'exit', 'act', 'ability', 'suggest', 'florida', 'value', 'gear', 'extension', 'congrats', 'winner', 'stat', '18', 'flightd', 'intl', '3hrs', '17', 'total', 'incredibly', 'small', 'chairman', 'reroute', 'somewhere', 'can', 'power', 'behind', '😊', 'phoenix', 'eye', 'shock', 'oscar', 'remove', 'trueblue', 'spend', 'chair', 'l', 'damn', 'especially', 'sky', 'piece', 'coast', 'tmrw', 'round', 'music', 'dog', 'spot', 'officially', 'usa', 'announcement', 'w/o', 'itinerary', 'mother', 'beautiful', 'count', 'final', 'benefit', 'crowd', 'breakfast', 'near', 'cheer', 'match', '35', 'side', 'nexus', 'atrocious', 'bday', 'cheap', 'east', 'god', 'assign', 'buffalo', 'arrange', 'ski', 'become', 'biz', 'memphis', 'realize', 'sister', 'wheelchair', 'disaster', 'steal', 'ya', 'yo', 'lap', 'nobody', 'bridge', 'previous', 'de-ice', 'success', 'in-flight', 'crappy', 'bonus', 'impressive', 'honestly', 'mexico', 'eventually', 'personnel', 'recommend', 'star', 'straight', 'mileageplus', 'broke', 'accord', 'livery', 'training', 'wednesday', 'march', 'sometime', 'industry', 'gg8929', 'advantage', 'arrangement', 'heck', 'quality', 'spirit', 'locate', 'drove', '2.5', '-/', 'uncomfortable', 'reading', 'onto', 'battle', 'appease', 'frustration', '13', 'dal', 'appear', 'compensate', 'sooner', 'parent', 'ty', 'kick', 'minor', 'seek', 'except', 'decision', 'assume', 'ah', 'honeymoon', 'channel', 'stewardess', 'icy', 'design', 'forget', 'insane', 'savannah', 'base', 'yell', 'whose', 'upgraded', 'paris', 'prior', 'draw', 'sweet', 'cleveland', 'release', 'third', 'pa', 'tone', 'badcustomerservice', 'costumer', 'secure', 'hot', 'overbooked', 'accepted', 'pr', 'play', 'hunt', 'truly', 'inform', 'yup', 'actual', 'advise', 'divert', 'summer', 'toddler', 'crash', 'takeoff', 'failure', 'aware', 'throw', 'unfortunate', 'admiral', 'dl', 'pbi', 'representative', 'meeting', 'positive', '👍', 'brand', 'worried', 'timely', 'constant', 'beach', 'communicate', 'outside', 'false', '❤️', 'whenever', 'texas', 'chat', 'disney', 'disappear', 'gross', 'boyfriend', 'flyfi', 'color', '2/24', 'locator', 'ontime', 'wheel', 'father', 'badservice', 'exist', 'usual', 'bit', 'lauderdale', 'relate', 'honor', 'transaction', 'beat', 'raleigh', 'pleasure', 'prime', 't5', 'forgot', 'promo', 'meant', 'premium', '👎', '70', 'certain', 'april', 'hat', 'plenty', 'unitedfail', 'management', 'coach', 'ahead', 'john', 'clean', 'properly', 'crashed', 'avgeek', 'fav', '1/3', 'accept', 'miserable', 'umm', 'law', 'visa', 'thankful', 'freak', 'partnership', 'extend', 'apologize', 'death', 'per', 'arrives', 'staralliance', '21', 'cc', 'mechanic', '36', 'couldnt', 'personal', 'wsj', 'true', 'pro', 'tough', '😡', 'thousand', 'shuttle', '4pm', 'virginatlantic', 'bdl', 'level', 'public', 'msp', 'dream', 'exec', 'shameful', 'coat', 'comp', 'willing', 'piss', 'deserves', 'cuz', 'cancun', 'proper', 'jb', 'girl', 'ual', 'nicely', '4567', 'amount', 'technically', 'alright', '787', 'omg', 'sunny', 'checkout', '65,000', 'directly', 'write', 'letter', 'fraud', 'telephone', 'incredible', 'smooth', 'turbulence', 'grand', 'seatac', 'francisco', 'baltimore', 'rr', 'dia', 'pet', 'general', 'alert', 'highly', 'combine', 'january', 'ensure', 'beer', 'nah', 'progress', 'compare', 'aircanada', 'pref', '11:30pm', '🙏', 'lesson', 'cali', 'practice', 'thursday', '80', 'mht', 'nasty', 'relative', 'bumped', 'fran', 'treatment', 'reasonable', 'apart', 'exchange', '4x', 'kiosk', 'carseat', 'angry', 'sun', 'expedia', 'compliment', 'fire', 'overweight', 'pit', 'register', 'poorcustomerservice', 'copy', 'certificate', 'carousel', 'simple', 'street', '2/28', 'wed', 'location', 'possibly', 'gotcha', 'corporation', 'daily', 'marketing', '😢', 'somehow', 'bottle', 'search', 'bunch', 'bathroom', 'toilet', 'inflight', 'est', 'guarantee', 'invite', 'pray', 'repair', 'ship', '5th', 'pittsburgh', 'nightmare', 'dmed', 'ipad', 'manager', 'qualify', 'quote', 'ive', 'exp', 'accountability', 'mths', 'abc', 'tpa', 'journey', 'sigh', 'movie', 'saw', 'storage', 'article', 'downgrade', 'kelly', '48', 'procedure', 'reflect', 'honest', 'picture', 'blah', 'ill', 'standard', 'nc', 'paper', 'ivr', 'doesnt', 'slept', 'floor', 'absurd', 'lock', 'el', 'holder', 'sadly', 'scavenger', 'bwi_airport', 'whatever', 'reliable', 'midway', 'picked', 'wear', 'smile', 'spending', '59', 'apple', 'meaning', 'alone', 'consistently', 'commitment', 'spiritairlines', 'laguardia', 'pleasant', 'separate', 'exactly', 'inadequate', 'cowboycerrone', 'opportunity', 'desktop', 'bug', 'so', 'october', 'incident', '20min', 'volunteer', 'manner', 'black', 'met', 'band', 'sooo', 'large', 'dealt', 'canada', 'gift', 'short', 'corporate', 'flyitforward', 'ignore', 'lucky', 'limited', '140', 'magic', 'vile', 'desperately', 'courtesy', 'cup', 'flightations', 'happier', 'specify', 'b787', 'shout', 'dsm', 'washington', 'rental', 'spell', 'mi', 'responds', 'prepared', 'inconvenient', 'etc', 'involve', 'position', 'application', 'harder', 'toward', 'bet', 'tear', '7am', 'directtv', 'tea', '2x', 'folder', 'pocket', 'atlantic', 'southwestairlines', '✈️', 'insult', 'limit', 'serv', 'forth', 'garbage', 'sits', 'drunk', 'lufthansa', 'often', 'juan', 'valid', 'billion', 'robotic', 'appreciates', 'memory', 'tech', 'basic', 'remind', 'operate', 'west', 'incur', 'character', 'thomas', '5+', 'rely', '😒', 'security', 'triflight', 'existent', 'bird', 'stock', 'decent', '1-800', 'scan', 'suitcase', 'inbound', 'oops', 'york', 'road', 'sing', 'reconsider', 'fb', 'orf', 'worthless', 'hundred', 'orleans', 'normally', 'lovely', \"'bluemanity\", 'pre-check', 'hostage', 'fortunemagazine', 'necessary', 'gain', 'diff', 'light', 'vm', 'operating', 'temp', 'stl', 'repeat', 'deserve', 'box', 'retrieve', 'print', \"o'hare\", 'painful', 'dozen', 'hook', 'disrespect', 'refuel', 'yyz', 'cell', 'inch', 'efficient', 'dulles_airport', 'mdw', 'dunno', 'exact', '150', 'segment', 'engine', 'ran', 'headphone', 'admit', '556', 'firstclass', 'london', 'upcoming', 'there', '500', 'faith', 'roundtrip', 'cheaper', 'young', '10hrs', 'boise', 'wind', 'temperature', '22', '1-2', 'button', 'estimate', 'albany', 'college', 'sympathy', 'accidentally', 'passport', 'partner', 'method', 'madrid', 'screen', 'pvd', 'buf', 'on-time', 'x', 'h', 'transport', 'nothappy', 'spoken', 'barely', 'table', 'originally', 'fiasco', '2days', 'express', 'cry', 'strike', 'plat', 'settle', 'package', 'brought', 'tkt', 'cabo', 'impact', 'unreal', 'nearby', 'lovejetblue', '6am', 'respect', 'karen', 'resolution', 'buying', 'fear', 'stink', 'argue', 'boy', 'lhr', '26', 'handler', 'event', 'wing', 'spread', 'cnn', 'ad', 'sincerely', 'afford', 'trap', '3056', 'palm', 'inspire', 'manage', 'stood', 'cheese', '0016', 'financial', 'reinstate', 'quite', 'rarely', 'pax', 'blog', 'bluemanity', 'student', 'bar', 'roc', 'chaos', '4th', 'practical', 'sjc', 'immediately', 'tool', 'scream', 'as', 'transportation', 'ai', 'heathrow', 'bummer', 'shoe', 'mon', 'forfeit', 'rush', '27', 'pin', 'availability', 'generic', 'assure', '654', 'flysouthwest', '4.', 'provider', '3pm', 'arizona', 'photography', 'hilarious', 'greeting', '^ey', 'greatservice', 'entitle', '😀', 'paypal', 'carpet', 'pending', 'golf', 'malfunction', 'china', 'wan', 'french', 'property', 'gosh', 'fly2ohare', 'flypdx', '9:50pm', 'excellent', 'wallet', 'lazy', 'b16', '24hrs', 'dep', 'employ', 'fron', 'frigid', 'haul', 'unlikely', 'f', 'hypocrisy', 'lane', 'lax-iad', 'csr', 'b4', 'perk', 'park', 'foolish', 'disgraceful', 'hawaii', 'regulation', 'stupid', 'upon', 'towards', '1.', 'operator', '62', 'bike', 'ali', 'australia', 'challenge', 'kindle', 'monitor', 'derekc21', 'ba', 'hopeful', 'birth', 'officer', 'tip', 'jumped', 'onhold', 'waterbury', 'republican', 'average', 'cat', 'belt', 'infuriate', 'tremendous', 'gladly', 'conflict', 'flts', 'seg', 'idiot', 'entertain', 'strongly', 'pst', 'yay', 'deice', 'attend', 'custserv', 'reimburse', 'taxi', 'usually', 'shame', '15minutes', 'ny_njairports', 'logistics', 'selfie', 'awe', 'interaction', 'unfriendly', 'taylor', 'rant', 'shitty', 'living', '5:30', 'pattern', 'passing', 'coworker', 'balance', 'happiness', 'med', 'rudeness', 'requirement', '2.', 'vp', 'sympathetic', 'complimentary', 'specific', 'owner', 'sydney', 'asia', 'severely', 'donut', 'fortunately', '😉', 'stressful', 'dirty', 'ga', '2000', 'dispatcher', 'snag', 'exercise', 'discover', 'theft', 'wet', '4+', 'round-trip', 'fave', 'burningman', 'bwi-sjd', 'ftw', 'unitedsucks', 'complains', 'ripoff', 'paso', 'maryella_green', 'destinationdragon', '😄', 'theellenshow', 'bagage', 'period', '2/19', 'machine', 'self', 'rudely', 'scam', 'alex', 'a321', '2015.', 'odd', 'e-mail', 'ahold', 'hurt', 'u.', 'continental', 'chicken', 'heat', '2258', 'huh', 'unload', 'reset', '915', 'cheat', 'headache', 'formal', '30-60', 'dot', 'fuel', 'rampers', 'rerouted', 'operational', 'pant', 'white', 'tab', 'err', 'delivery', 'ding', 'ton', 'lodge', 'cache', 'contest', 'driven', 'quicker', \"'on\", 'dinner', 'dude', 'ok.', 'truck', '1hr+', 'zone', 'improve', 'mt', 'advisory', 'toronto', 'alliance', 'w.', 'rifle', 'clothing', 'apps', 'getaway', 'one-way', 'integration', 'indeed', 'usairways-', 'preboarding', 'enforce', 'cushion', 'waiver', 'lmao', 'wreck', 'hungry', 'ms.', 'technical', 'buck', 'delhi', 'assault', 'rsw', 'survey', 'brutal', '738', 'jeff', 'clarify', 'local', 'okc', 'skiing', 'tue', 'carryon', 'pn', '320008a', 'deflator', 'chapter', 'amm', 'packed', 'eyw', 'reagan', 'again..', 'trace', 'veers', 'pjs', 'impress', 'ordeal', 'pre', 'annoy', '👀', 'usairwayssucks', 'satisfied', 'kp', 'goodbye', 'thenewamerican', 'skin', 'rest', 'cx', 'de-icing', 'rizzilient', '810', 'adjustment', 'dumb', 'bush', 'compassion', 'nvr', 'glasgow', 'annricord', 'historical', 'barbara', 'fabulous', 'example', '746.', 'esp', '2-3', 'dissatisfied', 'tnx', 'green', 'mid', 'common', 'typical', 'int', '😐', 'market', '350', 'shrug', 'geek', 'jax', 'tampa', 'corp', 'understaffing', 'nolove', 'atc', '45min', 'sport', 'dallas-austin', 'ashamed', 'manchester', 'chosen', 'resource', 'field', 'chk', 'thnx', 'deltaassist', 'larry', 'vicky', 'million', 'andrew', '737', 'recent', 'expedite', 'wc', 'nh', 'st.', 'bumping', '6:15', 'join', 'anytime', 'invalid', 'pillow', 'replacement', 'bostonlogan', 'lead', 'size', 'shut', '8th', 'normal', 'goodwill', 'parking', 'frm', 'scale', 'flightst', 'stun', 'otherwise', 'separately', 'unveils', 'entrance', 'reduce', 'consideration', 'difficult', 'cxl', 'ring', 'holiday', 'aa106', 'ua1740', 'conversation', 'shift', 'rep.', 'official', 'nature', 'heavily', 'ohio', 'pretzel', 'fritz', 'imma', 'reunite', 'shortage', 'pricing', 'similar', 'supposedly', 'donkey', 'prevent', 'innovation', 'david', 'jimcramer', 'aarp', 'repeatedly', 'valuable', 'school', 'impression', 'cash', 'tryin', 'fit', 'nonsense', 'instagram', 'airfare', '900', 'maiden', 'married', 'unused', '2:55', 'ric', 'ha', 'northeast', 'accommodation', '440', 'wake', 'safetyfirst', 'dad', 'pricey', 'frozen', 'mci', 'sean', \"'preciate\", '😞', 'sleekmoney', 'rescue', '//t.co/4ojrsdwpkk', 'nyc-', 'num', '1+', 'goin', 'retrain', 'doubt', 'jan', 'kinda', 'anniversary', 'daytona', 'review', 'reissue', 'carry-on', '1000', 'disregard', 'weight', 'restriction', 'advance', 'noon', 'document', 'pnr', 'pdx', 'fly2midway', 'expires', 'msy', 'june', 'refresh', 'shannon', 'chase', 'doo', '9pm', '3am', 'huston', 'bahamas', 'cruise', 'yuma', '40+', 'jetway', 'content', 'holy', 'numerical', 'flier', 'contract', 'constantly', '.50', 'giant', 'grace', 'sop', 'u.s.', 'inside', 'unexpected', 'io', 'seatbelt', 'bay', '😁', 'agency', 'furious', 'occupy', 'ohare', 'hour+', 're', 'tray', 'deep', 'allergy', 'starve', 'unprofessional', 'feb.', 'correctly', 'gf', 'meet', 'performance', 'bullshit', '😔', 'tablet', 'abandon', 'blow', 'guest', 'notcool', 'combination', 'stellar', 'approx', 'rating', 'wth', 'worstairlineever', 'surprised', 'removal', 'cessna', '747', 'ladygaga', 'carrieunderwood', 'approach', 'austinairport', 'faa', 'con', '24h', 'advice', 'winterweather', 'glove', 'tour', 'bill', 'yow', 'badge', 'earth', 'worstcustomerserviceever', 'glass', 'altitude', 'dest', 'cdg', 'random', 'q', 'elevate', 'jacquie', 'plitt', 'bruh', '~45', 'illegal', 'pbpinftworth', '64gb', 'neptune', 'nassau', '103', 'stuckinmemphis', 'texasisclosed', 'love_dragonss', 'lauren', 'consistent', '768', 'dispute', 'hence', '//t.co/aqjn4hwnac', 'negotiate', 'stream', 'scar', 'aww', 'wayne', 'g', 'restore', 'outbound', 'jose', 'touchdown', 'improvement', 'desire', 'across', 'de', 'perfectly', 'calendar', 'hassle', 'reference', \"king'scollegelondon\", 'charity', 'jailbreak', 'rag', 'unreliable', 'e', 'lame', 'season', '9am', '24hr', 'mark', 'dnt', 'split', 'fax', 'comedy', 'incl', 'kphl', 'transferable', 'medical', 'continuous', 'dial', 'jump', 'plastic', 'pack', '3739', 'manually', 'motion', '4840', 'laugh', 'bestairline', 'however', 'type', 'warn', 'mvp', '2324', 'scotch', 'non-stop', 'shoutout', '719', '30+', 'bro', 'irritated', 'series', 'journal', 'peep', 'lunch', 'jedediahbila', 'proud', 'resched', 'december', 'somebody', 'poorservice', 'notgoodenough', 'void', 'hardworking', 'felt', 'map', 'tide', 'inop', 'alternative', 'double', 'do..', 'prove', '4/19', 'till', 'regret', 'abq', 'rent', 'elsewhere', 'gfc', \"'the\", 'dakota', 'opinion', 'national', '24th', 'house', 'airbus', '//t.co/dbcvepn5qc', 'corevalues', 'passion', 'aerojobmarket', 'woke', 'planning', '2/22', 'hawaiian', 'organization', 'recover', 'cuba', '3x', 'game', 'promotion', 'bf', 'w/no', '79', 'everywhere', 'thats', 'cle', '25th', 'ops', 'define', 'pt', 'bright', 'tn', 'software', 'remains', 'geg', 'highlight', 'punta', 'cana', 'dulles', 'glitch', 'cvg', 'deadhead', 'annoyed', 'fails', 'react', 'on-line', 'acct', 'california', 'jason', 'idk', '99', '20+', 'yea', 'faster', 'sc', '1700', 'knoxville', 'acknowledge', 'version', 'aboard', 'risk', 'nonprofit', 'hou', '639', 'italy', 'greenville', 'jms2802', 'dear', 'terribly', 'instruct', 'physically', 'commit', 'bounce', 'durango', 'definition', 'incoming', '750.', 'ind', 'penalty', 'proof', 'bereavement', 'connector', 'hubby', 'operation', 'responsible', 'wrongfully', 'gainesville', 'hooked', 'fully', 'weak', 'ua1116', 'current', 'halfway', '1-3001885409', 'conveyer', 'soul', 'bloody', 'mke', '//t.co/hj5kq82chn', '.i', '683', 'surgery', 'confident', '😃', 'personally', 'driver', 'license', 'pen', 'pig', 'fmjtyl', '//t.co/pxdel1nq3l', '-6', 'stillwaiting', '4210', 'bradley_airport', 'badbadbad', 'mine..now', '1357', 'generate', 'specifically', '3618', '🌞✈', 'heavy', '😤', '680', 'reagan_airport', '266', 'lgb', 'cal', '//t.co/v015pk7dsi', 'flydelta', 'flyjetblue']\n"
     ]
    }
   ],
   "source": [
    "features = get_features(reviews)\n",
    "print(features)"
   ]
  },
  {
   "cell_type": "code",
   "execution_count": 22,
   "metadata": {},
   "outputs": [],
   "source": [
    "def get_features_dict(review):\n",
    "    current_review = {}\n",
    "    review_set = set(review)\n",
    "    for w in features:\n",
    "        current_review[w] = w in review_set\n",
    "    return current_review"
   ]
  },
  {
   "cell_type": "markdown",
   "metadata": {},
   "source": [
    "## Creating list of tuple, tuple has 2 value: \n",
    "#####  1- dictionary of features with true or false for current review \n",
    "#####  2- sentiment"
   ]
  },
  {
   "cell_type": "code",
   "execution_count": 23,
   "metadata": {},
   "outputs": [],
   "source": [
    "train_in = [(get_features_dict(review), sentiment) for review, sentiment in reviews]\n",
    "test_in = [(get_features_dict(review), sentiment) for review, sentiment in test_reviews]"
   ]
  },
  {
   "cell_type": "code",
   "execution_count": 24,
   "metadata": {},
   "outputs": [
    {
     "name": "stdout",
     "output_type": "stream",
     "text": [
      "({'flight': True, 'united': False, 'usairways': True, 'americanair': False, 'jetblue': False, 'southwestair': False, 'get': True, \"n't\": False, \"'s\": False, 'http': False, 'hour': False, 'thanks': False, 'service': False, 'cancel': False, 'time': False, '...': False, 'u': False, 'help': False, 'customer': False, 'call': False, 'hold': False, 'wait': False, 'go': False, 'plane': False, 'bag': False, '2': False, 'amp': False, 'fly': False, 'would': False, 'thank': False, 'need': False, 'make': False, 'still': False, 'try': False, \"'m\": False, 'one': False, 'back': False, 'say': False, 'day': False, 'gate': False, 'delayed': True, 'airline': False, 'take': False, 'bad': False, 'please': False, 'ca': False, 'like': False, 'virginamerica': False, 'late': False, 'book': False, 'guy': False, \"'ve\": False, 'delay': False, 'phone': False, 'agent': False, 'seat': False, 'change': False, 'today': False, '``': False, 'flightled': False, \"''\": False, 'ticket': False, 'know': False, 'work': False, 'well': False, 'check': False, 'never': False, 'could': False, 'airport': False, 'minute': False, 'miss': False, 'great': False, \"'re\": False, 'give': False, 'see': False, '3': False, 'use': False, 'hr': False, 'home': False, 'weather': False, 'problem': False, 'travel': False, 'tomorrow': False, 'really': False, 'min': False, 'love': False, 'dm': False, 'another': False, 'want': False, 'even': False, 'look': False, 'luggage': False, 'someone': False, 'good': False, 'people': False, 'lose': False, 'last': False, 'issue': False, 'way': False, 'much': False, \"'ll\": False, 'let': False, 'sit': False, 'new': False, 'right': False, '4': False, 'come': False, 'first': False, 'email': False, 'ever': False, 'told': False, 'staff': False, 'passenger': False, 'reservation': False, 'trip': False, 'next': False, 'due': False, 'crew': False, 'line': False, '”': False, 'yes': False, 'number': True, 'keep': False, 'baggage': False, 'jfk': False, 'response': False, 'sent': False, 'leave': False, 'tell': False, '“': False, 'online': False, 'ask': False, 'find': False, 'best': False, 'long': False, 'aa': False, 'appreciate': False, 'experience': False, '1': False, 'answer': False, 'boarding': False, 'mile': False, 'fleet': False, 'fleek': False, 'since': False, 'tonight': False, '5': False, 'think': False, 'left': False, 'week': False, 'board': False, 'air': False, 'update': False, 'voucher': False, 'night': False, 'pay': False, 'website': False, 'connection': False, 'two': False, 'sure': False, 'stuck': False, 'year': False, 'land': False, 'morning': False, 'flightr': False, 'credit': False, 'attendant': False, 'refund': False, 'rep': False, 'talk': False, 'show': False, 'send': False, 'follow': False, 'hope': False, 'receive': False, 'yet': False, 'anything': False, 'put': False, 'system': False, 'charge': False, 'rebooked': False, 'nice': False, 'already': False, 'anyone': False, 'hotel': False, 'point': False, 'person': False, 'dfw': False, 'lax': False, 'finally': False, 'southwest': False, 'pilot': False, 'arrive': False, 'add': False, 'name': False, 'every': False, 'sorry': False, 'frustrate': False, 'claim': False, 'wo': False, 'nothing': False, 'do': False, 'offer': False, \"'d\": False, 'care': False, 'full': False, 'rude': False, 'employee': False, '’': False, '20': False, 'tweet': False, 'free': False, 'thing': False, 'info': False, 'fail': False, 'understand': False, 'open': False, 'contact': False, 'flt': False, 'something': False, 'rebook': False, 'stop': False, 'seem': False, 'delta': False, 'suck': False, 'ok': False, 'suppose': False, 'also': False, 'happen': False, 'ago': False, 'friend': False, '30': False, 'business': False, '6': False, 'connect': False, 'airway': False, 'fee': False, 'money': False, 'site': False, 'able': False, 'thx': False, 'helpful': False, 'least': False, 'message': False, 'awesome': False, 'upgrade': False, 'rt': False, 'start': False, 'pas': False, 'app': False, 'lot': False, 'speak': False, 'departure': False, 'option': False, 'san': False, 'terrible': False, 'allow': False, 'everyone': False, 'ord': False, 'via': False, 'kid': False, 'plan': False, 'checked': False, 'gt': False, 'earlier': True, 'though': False, 'without': False, 'wifi': False, 'always': False, 'yesterday': False, 'sfo': False, 'family': False, 'plus': False, 'ewr': False, 'big': False, 'end': False, 'paid': False, 'class': False, 'tarmac': False, 'cause': False, 'wife': False, 'member': False, 'move': False, 'team': False, 'w/': False, 'mean': False, 'seriously': False, 'fix': False, 'vega': False, 'far': False, 'account': False, 'many': False, '7': False, 'hi': False, 'disappointed': False, 'actually': False, 'desk': False, 'ridiculous': False, 'destinationdragons': False, 'poor': False, 'early': False, 'schedule': False, 'cost': False, 'ground': False, '10': False, '50': False, 'old': False, 'found': False, 'direct': False, 'almost': False, 'strand': False, 'chicago': False, 'hear': False, 'snow': False, '1st': False, 'handle': False, 'instead': False, 'happy': False, 'oh': False, 'purchase': False, 'extra': False, 'reschedule': False, 'little': False, 'figure': False, 'dca': False, 'chance': True, 'phx': True, 'hey': False, 'expect': False, 'question': False, 'american': False, 'horrible': False, 'drop': False, 'bc': False, '--': False, 'return': False, 'status': False, 'food': False, 'row': False, 'soon': False, 'together': False, 'possible': False, 'treat': False, 'bos': False, 'turn': False, 'hung': False, 'respond': False, 'maybe': False, 'tv': False, 'ur': False, 'phl': False, 'error': False, 'past': False, 'disconnect': False, '8': False, 'price': False, 'resolve': False, 'feel': False, 'three': False, 'request': False, 'available': False, 'forward': False, 'complaint': False, 'place': False, 'else': False, 'policy': False, 'card': False, 'hang': False, 'thought': False, 'company': False, 'high': False, 'unacceptable': False, 'deal': False, 'real': False, 'around': False, 'runway': False, 'fare': False, 'easy': False, 'wrong': False, 'iad': False, 'reply': False, 'dallas': False, '25': False, '40': False, 'computer': False, 'idea': False, 'transfer': False, 'process': False, 'boston': False, 'job': False, 'dc': False, 'switch': False, 'date': False, 'la': False, 'clt': False, 'lol': False, 'confirmation': False, 'flyer': False, 'nyc': False, 'terminal': False, 'month': False, 'international': False, 'charlotte': False, 'fuck': False, 'different': False, 'busy': False, 'away': False, 'bring': False, 'deliver': False, 'guess': False, 'twitter': False, 'provide': False, '45': False, 'address': False, 'ua': False, 'imaginedragons': False, 'watch': False, 'fll': True, 'destination': False, 'lie': False, 'vacation': False, 'quick': False, 'joke': False, 'human': False, 'entire': False, 'priority': False, 'okay': False, 'depart': False, 'part': False, 'child': False, 'waste': False, 'twice': False, 'second': False, 'counter': False, 'storm': False, 'leg': False, 'w': False, 'load': False, 'sat': False, 'rock': False, '2nd': False, 'explain': False, 'reason': False, '24': False, 'miami': False, 'fun': False, 'lt': False, 'mechanical': False, 'reach': False, 'hop': False, 'run': False, 'may': False, 'less': False, 'group': False, 'enough': False, 'counting': False, 'cust': False, 'hard': False, 'link': False, 'loyal': False, 'assistance': False, 'wish': False, 'believe': False, 'live': False, 'traveler': False, 'denver': False, 'half': False, 'information': False, 'drive': False, 'sleep': False, 'share': False, 'swa': False, 'awful': False, '11': False, 'houston': False, 'whole': False, '12': False, 'future': False, '1/2': False, 'glad': False, 'might': False, 'amaze': False, \"y'all\": False, 'world': False, 'car': False, 'learn': False, 'relation': False, 'rather': False, 'city': False, 'life': False, 'spent': False, 'jet': False, 'despite': False, 'promise': False, 'head': False, 'drink': False, 'broken': False, 'na': False, 'cant': False, 'force': False, 'case': False, 'im': False, 'everything': False, 'close': False, 'baby': False, '9': False, 'yr': False, 'file': False, 'correct': False, 'apology': False, 'b': False, 'maintenance': False, 'cross': False, 'carry': False, 'hate': False, 'stay': False, 'enjoy': False, 'area': False, 'unfortunately': False, 'id': False, 'lga': False, 'plz': False, 'cool': False, 'consider': False, 'order': False, 'record': False, 'middle': False, 'form': False, '15': False, 'step': False, 'attitude': False, 'apparently': False, 'sign': False, 'usair': False, 'heard': False, 'newark': False, 'situation': False, 'club': False, 'unable': False, 'standby': False, 'wtf': False, 'train': False, 'flew': False, 'sunday': False, 'platinum': False, 'virgin': False, 'mom': False, 'excite': False, 'reflight': False, '100': False, 'item': False, 'control': False, 'worry': False, 'ruin': False, 'trouble': False, 'luck': False, 'save': False, 'hopefully': False, 'tuesday': False, 'rate': False, 'sell': False, 'longer': False, 'attempt': False, '200': False, 'access': False, 'space': False, 'overnight': False, 'word': False, 'pls': False, 'meal': False, 'refuse': False, 'tsa': False, 'country': False, 'luv': False, 'philly': False, 'either': False, 'room': False, '75': False, 'totally': False, 'sort': False, 'listen': False, 'detail': False, 'mess': False, 'husband': False, 'iah': False, 'orlando': False, 'blue': False, 'hello': False, 'deny': False, 'bank': False, 'award': False, 'screw': False, 'philadelphia': False, 'empty': False, '1.5': False, 'notice': False, 'super': False, 'wow': False, 'diego': False, 'safety': False, 'r': False, 'den': False, 'atl': False, 'definitely': False, 'mco': False, 'neveragain': False, 'flightlations': False, 'clear': False, 'pick': False, 'probably': False, 'gon': False, 'nashville': False, 'completely': False, 'bna': False, 'mileage': False, 'checkin': False, 'matter': False, 'single': False, 'receipt': False, 'list': False, 'freeze': False, 'buy': False, 'video': False, 'tag': False, 'concern': False, 'arrival': False, 'office': False, 'ready': False, 'winter': False, 'asap': False, 'state': False, 'door': False, 'accommodate': False, 'route': False, 'aircraft': False, 'begin': False, 'deplane': False, 'submit': False, 'tho': False, 'expire': False, 'front': False, '3rd': False, 'frequent': False, 'non': False, 'compensation': False, 'within': False, 'others': False, 'flown': False, 'win': False, 'thru': False, '60': False, 'merge': False, 'continue': False, 'walk': False, 'stuff': False, '2015': False, 'surprise': False, 'ceo': False, 'complain': False, 'kept': False, 'pretty': False, 'must': False, 'top': False, 'catch': False, 'flightlation': False, 'earn': False, 'apply': False, 'companion': False, 'several': False, 'yeah': False, 'mobile': False, 'feb': False, 'mail': False, 'beyond': False, 'confirm': False, 'bought': False, 'multiple': False, 'support': False, 'set': False, 'read': False, 'volume': False, 'atlanta': False, 'offering': False, 'friendly': False, 'overhead': False, '800': False, 'gold': False, 'unbelievable': False, 'finger': False, 'auto': False, 'merger': False, 'incompetent': False, 'page': False, 'lack': False, 'elite': False, 'choice': False, 'haha': False, 'sick': False, 'check-in': False, 'afternoon': False, 'red': False, 'damage': False, 'blame': False, 'ride': False, 'dividend': False, 'welcome': False, 'cabin': False, 'extremely': False, 'kind': False, 'friday': False, '0': False, 'raise': False, 'anymore': False, 'dragon': False, 'along': False, 'photo': False, 'serve': False, 'fl': False, 'ny': False, '90': False, 'four': False, 'equipment': False, 'story': False, 'saturday': False, 'phlairport': False, 'quickly': False, 'son': False, 'monday': False, 'require': False, 'bwi': False, 'pass': False, 'yall': False, 'original': False, 'worker': False, 'layover': False, 'funny': False, 'clearly': False, 'fault': False, 'happens': False, 'report': False, 'note': False, 'code': False, 'zero': False, '1k': False, 'hell': False, 'window': False, 'disappoint': False, 'legroom': False, 'americanairlines': False, 'medium': False, 'passbook': False, 'communication': False, 'folk': False, 'notification': False, 'brother': False, 'cut': False, 'pic': False, 'crazy': False, 'effort': False, 'sound': False, 'hit': False, 'man': False, 'fan': False, 'conf': True, 'wonderful': False, 'useless': False, 'hearing': False, 'mention': False, 'safe': False, 'view': False, 'post': False, 'traffic': False, 'upset': False, 'peanut': False, 'weekend': False, 'pm': False, 'absolute': False, 'unitedairlines': False, 'discount': False, 'fall': False, 'ppl': False, 'absolutely': False, 'program': False, 'ta': False, 'imagine': False, 'redeem': False, 'fill': False, 'choose': False, 'wall': False, 'touch': False, 'web': False, 'gotten': False, 'kill': False, 'inconvenience': False, 'tix': False, 'nearly': False, 'anywhere': False, 'cover': False, 'special': False, 'notify': False, 'dont': False, 'slc': False, 'shit': False, 'visit': False, 'pull': False, 'iphone': False, 'fair': False, 'news': False, 'nonstop': False, 'hand': False, 'fast': False, 'solution': False, 'woman': False, 'favorite': False, 'announce': False, 'expensive': False, 'assist': False, 'unhelpful': False, 'important': False, 'unhappy': False, 'wonder': False, 'lady': False, 'columbus': False, 'huge': False, 'kudos': False, 'internet': False, 'stick': False, 'automate': False, 'sad': False, 'birthday': False, 'pair': False, 'uk': False, 'worth': False, 'mine': False, 'include': False, 'c': False, 'dollar': False, 'trust': False, 'n': False, 'client': False, 'ugh': False, 'payment': False, 'degree': False, 'coupon': False, 'course': False, 'enter': False, 'log': False, 'serious': False, 'outstanding': False, 'fantastic': False, 'rdu': False, 'condition': False, 'reimbursement': False, 'avail': False, 'slow': False, 'fine': False, 'select': False, '..': False, 'dept': False, 'literally': False, 'difference': False, 'easily': False, 'commercial': False, 'suggestion': False, 'alternate': False, 'although': False, 'february': False, 'explanation': False, 'perfect': False, 'carrier': False, 'feature': False, 'track': False, 'remember': False, 'fact': False, 'professional': False, 'onboard': False, 'logan': False, 'smh': False, 'mint': False, 'teach': False, 'water': False, 'entertainment': False, 'flightation': False, 'solve': False, 'simply': False, 'funeral': False, 'tx': False, 'break': False, 'excuse': False, 'push': False, 'prefer': False, 'sw': False, 'coffee': False, 'none': False, 'low': False, 'tire': False, 'cab': False, 'warm': False, 'sale': False, 'wont': False, 'currently': False, 'center': False, 'svc': False, '2hrs': False, 'til': False, '300': False, 'mistake': False, 'heart': False, 'clothes': False, 'seattle': False, 'disappointment': False, 'austin': False, 'complete': False, 'nope': False, 'foot': False, 'b/c': False, 'avoid': False, 'obviously': False, 'acceptable': False, 'fort': False, 'action': False, 'social': False, 'ice': False, 'lounge': False, 'yvr': False, 'sense': False, 'economy': False, 'fight': False, 'usairwaysfail': False, 'model': False, 'eat': False, 'face': False, 'interest': False, 'epicfail': False, '32': False, 'wedding': False, 'profit': False, 'knew': False, 'loses': False, 'additional': False, 'america': False, 'emergency': False, 'jblu': False, 'sea': False, 'safely': False, 'infant': False, 'forever': False, 'rule': False, 'shortly': False, 'incompetence': False, 'disgust': False, 'stand': False, '728': False, 'decide': False, 'age': False, 'supervisor': False, 'held': False, 'customerservice': False, 'sna': False, 'cmh': False, 'outsource': False, 'bus': False, 'clue': False, 'moment': False, 'major': False, 'leaf': False, 'party': False, 'msg': False, 'bin': False, 'pathetic': False, 'waive': False, 'result': False, 'impossible': False, 'patience': False, 'dead': False, 'confuse': False, 'fund': False, 'silver': False, 'sju': False, 'anyway': False, 'btw': False, 'hire': False, 'callback': False, 'present': False, 'department': False, 'fyi': False, 'captain': False, 'airplane': False, 'couple': False, 'text': False, 'military': False, 'speed': False, 'statement': False, 'song': False, '2+': False, '30min': False, 'flightling': False, 'crap': False, 'ball': False, 'catering': False, 'guitar': False, 'mad': False, 'reserve': False, 'regard': False, 'automatically': False, '23': False, 'p': False, 'feedback': False, 'patient': False, 'daughter': False, 'reminder': False, 'click': False, 'unfriendlyskies': False, 'concerned': False, 'wine': False, 'likely': False, 'queue': False, 'interview': False, 'die': False, '3.5': False, 'south': False, 'mia': False, '3-4': False, 'spring': False, 'yep': False, 'domestic': False, 'spoke': False, 'cun': False, 'dfwairport': False, 'bother': False, 'affected': False, 'mind': False, 'snack': False, 'perhaps': False, 'august': False, 'five': False, 'delete': False, 'impressed': False, 'cold': False, '400': False, 'create': False, '1hr': False, 'prompt': False, 'main': False, '16': False, 'exit': False, 'act': False, 'ability': False, 'suggest': False, 'florida': False, 'value': False, 'gear': False, 'extension': False, 'congrats': False, 'winner': False, 'stat': False, '18': False, 'flightd': False, 'intl': False, '3hrs': False, '17': False, 'total': False, 'incredibly': False, 'small': False, 'chairman': False, 'reroute': False, 'somewhere': False, 'can': False, 'power': False, 'behind': False, '😊': False, 'phoenix': False, 'eye': False, 'shock': False, 'oscar': False, 'remove': False, 'trueblue': False, 'spend': False, 'chair': False, 'l': False, 'damn': False, 'especially': False, 'sky': False, 'piece': False, 'coast': False, 'tmrw': False, 'round': False, 'music': False, 'dog': False, 'spot': False, 'officially': False, 'usa': False, 'announcement': False, 'w/o': False, 'itinerary': False, 'mother': False, 'beautiful': False, 'count': False, 'final': False, 'benefit': False, 'crowd': False, 'breakfast': False, 'near': False, 'cheer': False, 'match': False, '35': False, 'side': False, 'nexus': False, 'atrocious': False, 'bday': False, 'cheap': False, 'east': False, 'god': False, 'assign': False, 'buffalo': False, 'arrange': False, 'ski': False, 'become': False, 'biz': False, 'memphis': False, 'realize': False, 'sister': False, 'wheelchair': False, 'disaster': False, 'steal': False, 'ya': False, 'yo': False, 'lap': False, 'nobody': False, 'bridge': False, 'previous': False, 'de-ice': False, 'success': False, 'in-flight': False, 'crappy': False, 'bonus': False, 'impressive': False, 'honestly': False, 'mexico': False, 'eventually': False, 'personnel': False, 'recommend': False, 'star': False, 'straight': False, 'mileageplus': False, 'broke': False, 'accord': False, 'livery': False, 'training': False, 'wednesday': False, 'march': False, 'sometime': False, 'industry': False, 'gg8929': False, 'advantage': False, 'arrangement': False, 'heck': False, 'quality': False, 'spirit': False, 'locate': False, 'drove': False, '2.5': False, '-/': False, 'uncomfortable': False, 'reading': False, 'onto': False, 'battle': False, 'appease': False, 'frustration': False, '13': False, 'dal': False, 'appear': False, 'compensate': False, 'sooner': False, 'parent': False, 'ty': False, 'kick': False, 'minor': False, 'seek': False, 'except': False, 'decision': False, 'assume': False, 'ah': False, 'honeymoon': False, 'channel': False, 'stewardess': False, 'icy': False, 'design': False, 'forget': False, 'insane': False, 'savannah': False, 'base': False, 'yell': False, 'whose': False, 'upgraded': False, 'paris': False, 'prior': False, 'draw': False, 'sweet': False, 'cleveland': False, 'release': False, 'third': False, 'pa': False, 'tone': False, 'badcustomerservice': False, 'costumer': False, 'secure': False, 'hot': False, 'overbooked': False, 'accepted': False, 'pr': False, 'play': False, 'hunt': False, 'truly': False, 'inform': False, 'yup': False, 'actual': False, 'advise': False, 'divert': False, 'summer': False, 'toddler': False, 'crash': False, 'takeoff': False, 'failure': False, 'aware': False, 'throw': False, 'unfortunate': False, 'admiral': False, 'dl': False, 'pbi': False, 'representative': False, 'meeting': False, 'positive': False, '👍': False, 'brand': False, 'worried': False, 'timely': False, 'constant': False, 'beach': False, 'communicate': False, 'outside': False, 'false': False, '❤️': False, 'whenever': False, 'texas': False, 'chat': False, 'disney': False, 'disappear': False, 'gross': False, 'boyfriend': False, 'flyfi': False, 'color': False, '2/24': False, 'locator': False, 'ontime': False, 'wheel': False, 'father': False, 'badservice': False, 'exist': False, 'usual': False, 'bit': False, 'lauderdale': False, 'relate': False, 'honor': False, 'transaction': False, 'beat': False, 'raleigh': False, 'pleasure': False, 'prime': False, 't5': False, 'forgot': False, 'promo': False, 'meant': False, 'premium': False, '👎': False, '70': False, 'certain': False, 'april': False, 'hat': False, 'plenty': False, 'unitedfail': False, 'management': False, 'coach': False, 'ahead': False, 'john': False, 'clean': False, 'properly': False, 'crashed': False, 'avgeek': False, 'fav': False, '1/3': False, 'accept': False, 'miserable': False, 'umm': False, 'law': False, 'visa': False, 'thankful': False, 'freak': False, 'partnership': False, 'extend': False, 'apologize': False, 'death': False, 'per': False, 'arrives': False, 'staralliance': False, '21': False, 'cc': False, 'mechanic': False, '36': False, 'couldnt': False, 'personal': False, 'wsj': False, 'true': False, 'pro': False, 'tough': False, '😡': False, 'thousand': False, 'shuttle': False, '4pm': False, 'virginatlantic': False, 'bdl': False, 'level': False, 'public': False, 'msp': False, 'dream': False, 'exec': False, 'shameful': False, 'coat': False, 'comp': False, 'willing': False, 'piss': False, 'deserves': False, 'cuz': False, 'cancun': False, 'proper': False, 'jb': False, 'girl': False, 'ual': False, 'nicely': False, '4567': False, 'amount': False, 'technically': False, 'alright': False, '787': False, 'omg': False, 'sunny': False, 'checkout': False, '65,000': False, 'directly': False, 'write': False, 'letter': False, 'fraud': False, 'telephone': False, 'incredible': False, 'smooth': False, 'turbulence': False, 'grand': False, 'seatac': False, 'francisco': False, 'baltimore': False, 'rr': False, 'dia': False, 'pet': False, 'general': False, 'alert': False, 'highly': False, 'combine': False, 'january': False, 'ensure': False, 'beer': False, 'nah': False, 'progress': False, 'compare': False, 'aircanada': False, 'pref': False, '11:30pm': False, '🙏': False, 'lesson': False, 'cali': False, 'practice': False, 'thursday': False, '80': False, 'mht': False, 'nasty': False, 'relative': False, 'bumped': False, 'fran': False, 'treatment': False, 'reasonable': False, 'apart': False, 'exchange': False, '4x': False, 'kiosk': False, 'carseat': False, 'angry': False, 'sun': False, 'expedia': False, 'compliment': False, 'fire': False, 'overweight': False, 'pit': False, 'register': False, 'poorcustomerservice': False, 'copy': False, 'certificate': False, 'carousel': False, 'simple': False, 'street': False, '2/28': False, 'wed': False, 'location': False, 'possibly': False, 'gotcha': False, 'corporation': False, 'daily': False, 'marketing': False, '😢': False, 'somehow': False, 'bottle': False, 'search': False, 'bunch': False, 'bathroom': False, 'toilet': False, 'inflight': False, 'est': False, 'guarantee': False, 'invite': False, 'pray': False, 'repair': False, 'ship': False, '5th': False, 'pittsburgh': False, 'nightmare': False, 'dmed': False, 'ipad': False, 'manager': False, 'qualify': False, 'quote': False, 'ive': False, 'exp': False, 'accountability': False, 'mths': False, 'abc': False, 'tpa': False, 'journey': False, 'sigh': False, 'movie': False, 'saw': False, 'storage': False, 'article': False, 'downgrade': False, 'kelly': False, '48': False, 'procedure': False, 'reflect': False, 'honest': False, 'picture': False, 'blah': False, 'ill': False, 'standard': False, 'nc': False, 'paper': False, 'ivr': False, 'doesnt': False, 'slept': False, 'floor': False, 'absurd': False, 'lock': False, 'el': False, 'holder': False, 'sadly': False, 'scavenger': False, 'bwi_airport': False, 'whatever': False, 'reliable': False, 'midway': False, 'picked': False, 'wear': False, 'smile': False, 'spending': False, '59': False, 'apple': False, 'meaning': False, 'alone': False, 'consistently': False, 'commitment': False, 'spiritairlines': False, 'laguardia': False, 'pleasant': False, 'separate': False, 'exactly': False, 'inadequate': False, 'cowboycerrone': False, 'opportunity': False, 'desktop': False, 'bug': False, 'so': False, 'october': False, 'incident': False, '20min': False, 'volunteer': False, 'manner': False, 'black': False, 'met': False, 'band': False, 'sooo': False, 'large': False, 'dealt': False, 'canada': False, 'gift': False, 'short': False, 'corporate': False, 'flyitforward': False, 'ignore': False, 'lucky': False, 'limited': False, '140': False, 'magic': False, 'vile': False, 'desperately': False, 'courtesy': False, 'cup': False, 'flightations': False, 'happier': False, 'specify': False, 'b787': False, 'shout': False, 'dsm': False, 'washington': False, 'rental': False, 'spell': False, 'mi': False, 'responds': False, 'prepared': False, 'inconvenient': False, 'etc': False, 'involve': False, 'position': False, 'application': False, 'harder': False, 'toward': False, 'bet': False, 'tear': False, '7am': False, 'directtv': False, 'tea': False, '2x': False, 'folder': False, 'pocket': False, 'atlantic': False, 'southwestairlines': False, '✈️': False, 'insult': False, 'limit': False, 'serv': False, 'forth': False, 'garbage': False, 'sits': False, 'drunk': False, 'lufthansa': False, 'often': False, 'juan': False, 'valid': False, 'billion': False, 'robotic': False, 'appreciates': False, 'memory': False, 'tech': False, 'basic': False, 'remind': False, 'operate': False, 'west': False, 'incur': False, 'character': False, 'thomas': False, '5+': False, 'rely': False, '😒': False, 'security': False, 'triflight': False, 'existent': False, 'bird': False, 'stock': False, 'decent': False, '1-800': False, 'scan': False, 'suitcase': False, 'inbound': False, 'oops': False, 'york': False, 'road': False, 'sing': False, 'reconsider': False, 'fb': False, 'orf': False, 'worthless': False, 'hundred': False, 'orleans': False, 'normally': False, 'lovely': False, \"'bluemanity\": False, 'pre-check': False, 'hostage': False, 'fortunemagazine': False, 'necessary': False, 'gain': False, 'diff': False, 'light': False, 'vm': False, 'operating': False, 'temp': False, 'stl': False, 'repeat': False, 'deserve': False, 'box': False, 'retrieve': False, 'print': False, \"o'hare\": False, 'painful': False, 'dozen': False, 'hook': False, 'disrespect': False, 'refuel': False, 'yyz': False, 'cell': False, 'inch': False, 'efficient': False, 'dulles_airport': False, 'mdw': False, 'dunno': False, 'exact': False, '150': False, 'segment': False, 'engine': False, 'ran': False, 'headphone': False, 'admit': False, '556': False, 'firstclass': False, 'london': False, 'upcoming': False, 'there': False, '500': False, 'faith': False, 'roundtrip': False, 'cheaper': False, 'young': False, '10hrs': False, 'boise': False, 'wind': False, 'temperature': False, '22': False, '1-2': False, 'button': False, 'estimate': False, 'albany': False, 'college': False, 'sympathy': False, 'accidentally': False, 'passport': False, 'partner': False, 'method': False, 'madrid': False, 'screen': False, 'pvd': False, 'buf': False, 'on-time': False, 'x': False, 'h': False, 'transport': False, 'nothappy': False, 'spoken': False, 'barely': False, 'table': False, 'originally': False, 'fiasco': False, '2days': False, 'express': False, 'cry': False, 'strike': False, 'plat': False, 'settle': False, 'package': False, 'brought': False, 'tkt': False, 'cabo': False, 'impact': False, 'unreal': False, 'nearby': False, 'lovejetblue': False, '6am': False, 'respect': False, 'karen': False, 'resolution': False, 'buying': False, 'fear': False, 'stink': False, 'argue': False, 'boy': False, 'lhr': False, '26': False, 'handler': False, 'event': False, 'wing': False, 'spread': False, 'cnn': False, 'ad': False, 'sincerely': False, 'afford': False, 'trap': False, '3056': False, 'palm': False, 'inspire': False, 'manage': False, 'stood': False, 'cheese': False, '0016': False, 'financial': False, 'reinstate': False, 'quite': False, 'rarely': False, 'pax': False, 'blog': False, 'bluemanity': False, 'student': False, 'bar': False, 'roc': False, 'chaos': False, '4th': False, 'practical': False, 'sjc': False, 'immediately': False, 'tool': False, 'scream': False, 'as': False, 'transportation': False, 'ai': False, 'heathrow': False, 'bummer': False, 'shoe': False, 'mon': False, 'forfeit': False, 'rush': False, '27': False, 'pin': False, 'availability': False, 'generic': False, 'assure': False, '654': False, 'flysouthwest': False, '4.': False, 'provider': False, '3pm': False, 'arizona': False, 'photography': False, 'hilarious': False, 'greeting': False, '^ey': False, 'greatservice': False, 'entitle': False, '😀': False, 'paypal': False, 'carpet': False, 'pending': False, 'golf': False, 'malfunction': False, 'china': False, 'wan': False, 'french': False, 'property': False, 'gosh': False, 'fly2ohare': False, 'flypdx': False, '9:50pm': False, 'excellent': False, 'wallet': False, 'lazy': False, 'b16': False, '24hrs': False, 'dep': False, 'employ': False, 'fron': False, 'frigid': False, 'haul': False, 'unlikely': False, 'f': False, 'hypocrisy': False, 'lane': False, 'lax-iad': False, 'csr': False, 'b4': False, 'perk': False, 'park': False, 'foolish': False, 'disgraceful': False, 'hawaii': False, 'regulation': False, 'stupid': False, 'upon': False, 'towards': False, '1.': False, 'operator': False, '62': False, 'bike': False, 'ali': False, 'australia': False, 'challenge': False, 'kindle': False, 'monitor': False, 'derekc21': False, 'ba': False, 'hopeful': False, 'birth': False, 'officer': False, 'tip': False, 'jumped': False, 'onhold': False, 'waterbury': False, 'republican': False, 'average': False, 'cat': False, 'belt': False, 'infuriate': False, 'tremendous': False, 'gladly': False, 'conflict': False, 'flts': False, 'seg': False, 'idiot': False, 'entertain': False, 'strongly': False, 'pst': False, 'yay': False, 'deice': False, 'attend': False, 'custserv': False, 'reimburse': False, 'taxi': False, 'usually': False, 'shame': False, '15minutes': False, 'ny_njairports': False, 'logistics': False, 'selfie': False, 'awe': False, 'interaction': False, 'unfriendly': False, 'taylor': False, 'rant': False, 'shitty': False, 'living': False, '5:30': False, 'pattern': False, 'passing': False, 'coworker': False, 'balance': False, 'happiness': False, 'med': False, 'rudeness': False, 'requirement': False, '2.': False, 'vp': False, 'sympathetic': False, 'complimentary': False, 'specific': False, 'owner': False, 'sydney': False, 'asia': False, 'severely': False, 'donut': False, 'fortunately': False, '😉': False, 'stressful': False, 'dirty': False, 'ga': False, '2000': False, 'dispatcher': False, 'snag': False, 'exercise': False, 'discover': False, 'theft': False, 'wet': False, '4+': False, 'round-trip': False, 'fave': False, 'burningman': False, 'bwi-sjd': False, 'ftw': False, 'unitedsucks': False, 'complains': False, 'ripoff': False, 'paso': False, 'maryella_green': False, 'destinationdragon': False, '😄': False, 'theellenshow': False, 'bagage': False, 'period': False, '2/19': False, 'machine': False, 'self': False, 'rudely': False, 'scam': False, 'alex': False, 'a321': False, '2015.': False, 'odd': False, 'e-mail': False, 'ahold': False, 'hurt': False, 'u.': False, 'continental': False, 'chicken': False, 'heat': False, '2258': False, 'huh': False, 'unload': False, 'reset': False, '915': False, 'cheat': False, 'headache': False, 'formal': False, '30-60': False, 'dot': False, 'fuel': False, 'rampers': False, 'rerouted': False, 'operational': False, 'pant': False, 'white': False, 'tab': False, 'err': False, 'delivery': False, 'ding': False, 'ton': False, 'lodge': False, 'cache': False, 'contest': False, 'driven': False, 'quicker': False, \"'on\": False, 'dinner': False, 'dude': False, 'ok.': False, 'truck': False, '1hr+': False, 'zone': False, 'improve': False, 'mt': False, 'advisory': False, 'toronto': False, 'alliance': False, 'w.': False, 'rifle': False, 'clothing': False, 'apps': False, 'getaway': False, 'one-way': False, 'integration': False, 'indeed': False, 'usairways-': False, 'preboarding': False, 'enforce': False, 'cushion': False, 'waiver': False, 'lmao': False, 'wreck': False, 'hungry': False, 'ms.': False, 'technical': False, 'buck': False, 'delhi': False, 'assault': False, 'rsw': False, 'survey': False, 'brutal': False, '738': False, 'jeff': False, 'clarify': False, 'local': False, 'okc': False, 'skiing': False, 'tue': False, 'carryon': False, 'pn': False, '320008a': False, 'deflator': False, 'chapter': False, 'amm': False, 'packed': False, 'eyw': False, 'reagan': False, 'again..': False, 'trace': False, 'veers': False, 'pjs': False, 'impress': False, 'ordeal': False, 'pre': False, 'annoy': False, '👀': False, 'usairwayssucks': False, 'satisfied': False, 'kp': False, 'goodbye': False, 'thenewamerican': False, 'skin': False, 'rest': False, 'cx': False, 'de-icing': False, 'rizzilient': False, '810': False, 'adjustment': False, 'dumb': False, 'bush': False, 'compassion': False, 'nvr': False, 'glasgow': False, 'annricord': False, 'historical': False, 'barbara': False, 'fabulous': False, 'example': False, '746.': False, 'esp': False, '2-3': False, 'dissatisfied': False, 'tnx': False, 'green': False, 'mid': False, 'common': False, 'typical': False, 'int': False, '😐': False, 'market': False, '350': False, 'shrug': False, 'geek': False, 'jax': False, 'tampa': False, 'corp': False, 'understaffing': False, 'nolove': False, 'atc': False, '45min': False, 'sport': False, 'dallas-austin': False, 'ashamed': False, 'manchester': False, 'chosen': False, 'resource': False, 'field': False, 'chk': False, 'thnx': False, 'deltaassist': False, 'larry': False, 'vicky': False, 'million': False, 'andrew': False, '737': False, 'recent': False, 'expedite': False, 'wc': False, 'nh': False, 'st.': False, 'bumping': False, '6:15': False, 'join': False, 'anytime': False, 'invalid': False, 'pillow': False, 'replacement': False, 'bostonlogan': False, 'lead': False, 'size': False, 'shut': False, '8th': False, 'normal': False, 'goodwill': False, 'parking': False, 'frm': False, 'scale': False, 'flightst': False, 'stun': False, 'otherwise': False, 'separately': False, 'unveils': False, 'entrance': False, 'reduce': False, 'consideration': False, 'difficult': False, 'cxl': False, 'ring': False, 'holiday': False, 'aa106': False, 'ua1740': False, 'conversation': False, 'shift': False, 'rep.': False, 'official': False, 'nature': False, 'heavily': False, 'ohio': False, 'pretzel': False, 'fritz': False, 'imma': False, 'reunite': False, 'shortage': False, 'pricing': False, 'similar': False, 'supposedly': False, 'donkey': False, 'prevent': False, 'innovation': False, 'david': False, 'jimcramer': False, 'aarp': False, 'repeatedly': False, 'valuable': False, 'school': False, 'impression': False, 'cash': False, 'tryin': False, 'fit': False, 'nonsense': False, 'instagram': False, 'airfare': False, '900': False, 'maiden': False, 'married': False, 'unused': False, '2:55': False, 'ric': False, 'ha': False, 'northeast': False, 'accommodation': False, '440': False, 'wake': False, 'safetyfirst': False, 'dad': False, 'pricey': False, 'frozen': False, 'mci': False, 'sean': False, \"'preciate\": False, '😞': False, 'sleekmoney': False, 'rescue': False, '//t.co/4ojrsdwpkk': False, 'nyc-': False, 'num': False, '1+': False, 'goin': False, 'retrain': False, 'doubt': False, 'jan': False, 'kinda': False, 'anniversary': False, 'daytona': False, 'review': False, 'reissue': False, 'carry-on': False, '1000': False, 'disregard': False, 'weight': False, 'restriction': False, 'advance': False, 'noon': False, 'document': False, 'pnr': False, 'pdx': False, 'fly2midway': False, 'expires': False, 'msy': False, 'june': False, 'refresh': False, 'shannon': False, 'chase': False, 'doo': False, '9pm': False, '3am': False, 'huston': False, 'bahamas': False, 'cruise': False, 'yuma': False, '40+': False, 'jetway': False, 'content': False, 'holy': False, 'numerical': False, 'flier': False, 'contract': False, 'constantly': False, '.50': False, 'giant': False, 'grace': False, 'sop': False, 'u.s.': False, 'inside': False, 'unexpected': False, 'io': False, 'seatbelt': False, 'bay': False, '😁': False, 'agency': False, 'furious': False, 'occupy': False, 'ohare': False, 'hour+': False, 're': False, 'tray': False, 'deep': False, 'allergy': False, 'starve': False, 'unprofessional': False, 'feb.': False, 'correctly': False, 'gf': False, 'meet': False, 'performance': False, 'bullshit': False, '😔': False, 'tablet': False, 'abandon': False, 'blow': False, 'guest': False, 'notcool': False, 'combination': False, 'stellar': False, 'approx': False, 'rating': False, 'wth': False, 'worstairlineever': False, 'surprised': False, 'removal': False, 'cessna': False, '747': False, 'ladygaga': False, 'carrieunderwood': False, 'approach': False, 'austinairport': False, 'faa': False, 'con': False, '24h': False, 'advice': False, 'winterweather': False, 'glove': False, 'tour': False, 'bill': False, 'yow': False, 'badge': False, 'earth': False, 'worstcustomerserviceever': False, 'glass': False, 'altitude': False, 'dest': False, 'cdg': False, 'random': False, 'q': False, 'elevate': False, 'jacquie': False, 'plitt': False, 'bruh': False, '~45': False, 'illegal': False, 'pbpinftworth': False, '64gb': False, 'neptune': False, 'nassau': False, '103': False, 'stuckinmemphis': False, 'texasisclosed': False, 'love_dragonss': False, 'lauren': False, 'consistent': False, '768': False, 'dispute': False, 'hence': False, '//t.co/aqjn4hwnac': False, 'negotiate': False, 'stream': False, 'scar': False, 'aww': False, 'wayne': False, 'g': False, 'restore': False, 'outbound': False, 'jose': False, 'touchdown': False, 'improvement': False, 'desire': False, 'across': False, 'de': False, 'perfectly': False, 'calendar': False, 'hassle': False, 'reference': False, \"king'scollegelondon\": False, 'charity': False, 'jailbreak': False, 'rag': False, 'unreliable': False, 'e': False, 'lame': False, 'season': False, '9am': False, '24hr': False, 'mark': False, 'dnt': False, 'split': False, 'fax': False, 'comedy': False, 'incl': False, 'kphl': False, 'transferable': False, 'medical': False, 'continuous': False, 'dial': False, 'jump': False, 'plastic': False, 'pack': False, '3739': False, 'manually': False, 'motion': False, '4840': False, 'laugh': False, 'bestairline': False, 'however': False, 'type': False, 'warn': False, 'mvp': False, '2324': False, 'scotch': False, 'non-stop': False, 'shoutout': False, '719': False, '30+': False, 'bro': False, 'irritated': False, 'series': False, 'journal': False, 'peep': False, 'lunch': False, 'jedediahbila': False, 'proud': False, 'resched': False, 'december': False, 'somebody': False, 'poorservice': False, 'notgoodenough': False, 'void': False, 'hardworking': False, 'felt': False, 'map': False, 'tide': False, 'inop': False, 'alternative': False, 'double': False, 'do..': False, 'prove': False, '4/19': False, 'till': False, 'regret': False, 'abq': False, 'rent': False, 'elsewhere': False, 'gfc': False, \"'the\": False, 'dakota': False, 'opinion': False, 'national': False, '24th': False, 'house': False, 'airbus': False, '//t.co/dbcvepn5qc': False, 'corevalues': False, 'passion': False, 'aerojobmarket': False, 'woke': False, 'planning': False, '2/22': False, 'hawaiian': False, 'organization': False, 'recover': False, 'cuba': False, '3x': False, 'game': False, 'promotion': False, 'bf': False, 'w/no': False, '79': False, 'everywhere': False, 'thats': False, 'cle': False, '25th': False, 'ops': False, 'define': False, 'pt': False, 'bright': False, 'tn': False, 'software': False, 'remains': False, 'geg': False, 'highlight': False, 'punta': False, 'cana': False, 'dulles': False, 'glitch': False, 'cvg': False, 'deadhead': False, 'annoyed': False, 'fails': False, 'react': False, 'on-line': False, 'acct': False, 'california': False, 'jason': False, 'idk': False, '99': False, '20+': False, 'yea': False, 'faster': False, 'sc': False, '1700': False, 'knoxville': False, 'acknowledge': False, 'version': False, 'aboard': False, 'risk': False, 'nonprofit': False, 'hou': False, '639': False, 'italy': False, 'greenville': False, 'jms2802': False, 'dear': False, 'terribly': False, 'instruct': False, 'physically': False, 'commit': False, 'bounce': False, 'durango': False, 'definition': False, 'incoming': False, '750.': False, 'ind': False, 'penalty': False, 'proof': False, 'bereavement': False, 'connector': False, 'hubby': False, 'operation': False, 'responsible': False, 'wrongfully': False, 'gainesville': False, 'hooked': False, 'fully': False, 'weak': False, 'ua1116': False, 'current': False, 'halfway': False, '1-3001885409': False, 'conveyer': False, 'soul': False, 'bloody': False, 'mke': False, '//t.co/hj5kq82chn': False, '.i': False, '683': False, 'surgery': False, 'confident': False, '😃': False, 'personally': False, 'driver': False, 'license': False, 'pen': False, 'pig': False, 'fmjtyl': True, '//t.co/pxdel1nq3l': False, '-6': False, 'stillwaiting': False, '4210': False, 'bradley_airport': False, 'badbadbad': False, 'mine..now': False, '1357': False, 'generate': False, 'specifically': False, '3618': False, '🌞✈': False, 'heavy': False, '😤': False, '680': False, 'reagan_airport': False, '266': False, 'lgb': False, 'cal': False, '//t.co/v015pk7dsi': False, 'flydelta': False, 'flyjetblue': False}, 'neutral')\n"
     ]
    }
   ],
   "source": [
    "print(train_in[0])"
   ]
  },
  {
   "cell_type": "markdown",
   "metadata": {},
   "source": [
    "## Training and Testing\n",
    "### Method 1: Using NaiveBayesClassifier"
   ]
  },
  {
   "cell_type": "code",
   "execution_count": 25,
   "metadata": {},
   "outputs": [],
   "source": [
    "from nltk import NaiveBayesClassifier\n",
    "classifier = NaiveBayesClassifier.train(train_in)"
   ]
  },
  {
   "cell_type": "code",
   "execution_count": 26,
   "metadata": {},
   "outputs": [
    {
     "data": {
      "text/plain": [
       "'negative'"
      ]
     },
     "execution_count": 26,
     "metadata": {},
     "output_type": "execute_result"
    }
   ],
   "source": [
    "classifier.classify(test_in[5][0])"
   ]
  },
  {
   "cell_type": "code",
   "execution_count": 27,
   "metadata": {},
   "outputs": [
    {
     "data": {
      "text/plain": [
       "0.758"
      ]
     },
     "execution_count": 27,
     "metadata": {},
     "output_type": "execute_result"
    }
   ],
   "source": [
    "nltk.classify.accuracy(classifier, test_in)"
   ]
  },
  {
   "cell_type": "code",
   "execution_count": 28,
   "metadata": {},
   "outputs": [
    {
     "name": "stdout",
     "output_type": "stream",
     "text": [
      "Most Informative Features\n",
      "                   great = True           positi : neutra =     23.0 : 1.0\n",
      "                 awesome = True           positi : neutra =     21.1 : 1.0\n",
      "                  excite = True           positi : negati =     21.0 : 1.0\n",
      "                    hold = True           negati : positi =     20.1 : 1.0\n",
      "              definitely = True           positi : negati =     18.6 : 1.0\n",
      "                   thank = True           positi : negati =     17.8 : 1.0\n",
      "                   amaze = True           positi : negati =     17.1 : 1.0\n",
      "                    rock = True           positi : negati =     17.1 : 1.0\n",
      "                 atlanta = True           neutra : negati =     16.3 : 1.0\n",
      "                    haha = True           positi : negati =     16.1 : 1.0\n",
      "                 welcome = True           positi : negati =     16.1 : 1.0\n",
      "               companion = True           neutra : negati =     14.4 : 1.0\n",
      "                      hr = True           negati : positi =     14.3 : 1.0\n",
      "               fantastic = True           positi : negati =     13.6 : 1.0\n",
      "             outstanding = True           positi : negati =     13.6 : 1.0\n",
      "                favorite = True           positi : negati =     13.6 : 1.0\n",
      "            professional = True           positi : negati =     13.6 : 1.0\n",
      "      destinationdragons = True           neutra : negati =     12.7 : 1.0\n",
      "                   fleek = True           neutra : negati =     12.7 : 1.0\n",
      "                    wall = True           neutra : negati =     12.5 : 1.0\n"
     ]
    }
   ],
   "source": [
    "classifier.show_most_informative_features(20)"
   ]
  },
  {
   "cell_type": "markdown",
   "metadata": {},
   "source": [
    "### Method2: Using RandomForestClassifier\n",
    "Random forests is a supervised learning algorithm. It can be used both for classification and regression. It is also the most flexible and easy to use algorithm. A forest is comprised of trees. It is said that the more trees it has, the more robust a forest is. Random forests creates decision trees on randomly selected data samples, gets prediction from each tree and selects the best solution by means of voting. It also provides a pretty good indicator of the feature importance."
   ]
  },
  {
   "cell_type": "code",
   "execution_count": 29,
   "metadata": {},
   "outputs": [],
   "source": [
    "from sklearn.ensemble import RandomForestClassifier\n",
    "from nltk.classify.scikitlearn import SklearnClassifier"
   ]
  },
  {
   "cell_type": "code",
   "execution_count": 30,
   "metadata": {},
   "outputs": [],
   "source": [
    "rfc = RandomForestClassifier()\n",
    "classifier_sklearn = SklearnClassifier(rfc)"
   ]
  },
  {
   "cell_type": "code",
   "execution_count": 31,
   "metadata": {},
   "outputs": [
    {
     "name": "stderr",
     "output_type": "stream",
     "text": [
      "C:\\ProgramData\\Anaconda3\\lib\\site-packages\\sklearn\\ensemble\\forest.py:246: FutureWarning: The default value of n_estimators will change from 10 in version 0.20 to 100 in 0.22.\n",
      "  \"10 in version 0.20 to 100 in 0.22.\", FutureWarning)\n"
     ]
    },
    {
     "data": {
      "text/plain": [
       "<SklearnClassifier(RandomForestClassifier(bootstrap=True, class_weight=None, criterion='gini',\n",
       "            max_depth=None, max_features='auto', max_leaf_nodes=None,\n",
       "            min_impurity_decrease=0.0, min_impurity_split=None,\n",
       "            min_samples_leaf=1, min_samples_split=2,\n",
       "            min_weight_fraction_leaf=0.0, n_estimators=10, n_jobs=None,\n",
       "            oob_score=False, random_state=None, verbose=0,\n",
       "            warm_start=False))>"
      ]
     },
     "execution_count": 31,
     "metadata": {},
     "output_type": "execute_result"
    }
   ],
   "source": [
    "classifier_sklearn.train(train_in)"
   ]
  },
  {
   "cell_type": "code",
   "execution_count": 32,
   "metadata": {},
   "outputs": [
    {
     "data": {
      "text/plain": [
       "0.708"
      ]
     },
     "execution_count": 32,
     "metadata": {},
     "output_type": "execute_result"
    }
   ],
   "source": [
    "nltk.classify.accuracy(classifier_sklearn, test_in)"
   ]
  },
  {
   "cell_type": "code",
   "execution_count": null,
   "metadata": {},
   "outputs": [],
   "source": []
  }
 ],
 "metadata": {
  "kernelspec": {
   "display_name": "Python 3",
   "language": "python",
   "name": "python3"
  },
  "language_info": {
   "codemirror_mode": {
    "name": "ipython",
    "version": 3
   },
   "file_extension": ".py",
   "mimetype": "text/x-python",
   "name": "python",
   "nbconvert_exporter": "python",
   "pygments_lexer": "ipython3",
   "version": "3.7.3"
  }
 },
 "nbformat": 4,
 "nbformat_minor": 2
}
